{
 "cells": [
  {
   "cell_type": "markdown",
   "metadata": {},
   "source": [
    "# ideal trocs \n",
    "\n",
    "## 20240919\n",
    "trocs_fit + cpe_fit 으로 계산해야하는데,  정렬이 다르게 되있음.  정렬부터 맞춰야함\n"
   ]
  },
  {
   "cell_type": "code",
   "execution_count": 1,
   "metadata": {},
   "outputs": [],
   "source": [
    "import pandas as pd\n",
    "import numpy as np\n",
    "import os\n",
    "from openpyxl import load_workbook\n",
    "import openpyxl\n",
    "\n",
    "\n",
    "\n",
    "##### Ideal TROCS : TROCS INPUT + CPE FIT ##### \n",
    "\n",
    "def ideal_trocs(df_rawdata):\n",
    "\n",
    "    # 계산 결과를 저장할 리스트\n",
    "    ideal_trocs_list = []    \n",
    "   \n",
    "    # LOT_ID별로 그룹화\n",
    "    grouped = df_rawdata.groupby('LOT_ID')\n",
    "\n",
    "    # 각 그룹에 대해 연산 수행\n",
    "    for lot_id, group in grouped:\n",
    "        trocs_fit_x = group['trocs_fit_x']\n",
    "        trocs_fit_y = group['trocs_fit_y']\n",
    "        cpe_pred_x = group['cpe_pred_x']\n",
    "        cpe_pred_y = group['cpe_pred_y']\n",
    "        \n",
    "        # ideal trocs 계산 \n",
    "        ideal_trocs_x = group['trocs_fit_x'] + group['cpe_pred_x']\n",
    "        ideal_trocs_y = group['trocs_fit_y'] + group['cpe_pred_y']\n",
    "\n",
    "        # 결과 저장\n",
    "        ideal_trocs_list.append(pd.DataFrame({\n",
    "            'ideal_trocs_x' : ideal_trocs_x,\n",
    "            'ideal_trocs_y' : ideal_trocs_y\n",
    "        }))\n",
    "\n",
    "    # 결과 병합\n",
    "    df_ideal_trocs = pd.concat(ideal_trocs_list, ignore_index=True)\n",
    "    # 원본 데이터와 병합\n",
    "    df_rawdata = pd.concat([df_rawdata.reset_index(drop=True), df_ideal_trocs], axis=1)\n",
    "    return df_rawdata\n",
    "  \n",
    "\n",
    "\n",
    "\n",
    "################################### ideal trocs #####################################################################\n",
    "\n",
    "\n",
    "# 데이타 불러오기 \n",
    "df_rawdata = pd.read_excel('output_3차.xlsx', sheet_name='RawData-1')\n",
    "\n",
    "# trocs_fit + cpe_fit 수행\n",
    "df_ideal_trocs = ideal_trocs(df_rawdata)\n",
    "\n",
    "# ideal_trocs 결과를 엑셀 파일에 저장\n",
    "with pd.ExcelWriter('output_3차.xlsx', engine='openpyxl', mode='a', if_sheet_exists='replace') as writer:\n",
    "    df_ideal_trocs.to_excel(writer, sheet_name='RawData-1', index=False)\n",
    "\n",
    "\n",
    "    \n",
    "\n",
    "\n",
    "\n",
    "\n",
    "\n",
    "\n",
    "        "
   ]
  },
  {
   "cell_type": "code",
   "execution_count": null,
   "metadata": {},
   "outputs": [],
   "source": []
  }
 ],
 "metadata": {
  "kernelspec": {
   "display_name": "Python 3",
   "language": "python",
   "name": "python3"
  },
  "language_info": {
   "codemirror_mode": {
    "name": "ipython",
    "version": 3
   },
   "file_extension": ".py",
   "mimetype": "text/x-python",
   "name": "python",
   "nbconvert_exporter": "python",
   "pygments_lexer": "ipython3",
   "version": "3.8.5"
  }
 },
 "nbformat": 4,
 "nbformat_minor": 2
}
