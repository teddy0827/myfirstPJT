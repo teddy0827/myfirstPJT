{
 "cells": [
  {
   "cell_type": "markdown",
   "metadata": {},
   "source": [
    "■ Patial Shot 구분하기\n",
    "\n",
    "# 202041010\n",
    "1. 각 shot의 4개모서리 좌표로 150mm를 넘어가는지 확인\n"
   ]
  },
  {
   "cell_type": "code",
   "execution_count": 9,
   "metadata": {},
   "outputs": [
    {
     "name": "stdout",
     "output_type": "stream",
     "text": [
      "DataFrame이 'partial_shot_classification.csv' 파일로 저장되었습니다.\n"
     ]
    }
   ],
   "source": [
    "\n",
    "import matplotlib.pyplot as plt\n",
    "import matplotlib.patches as patches\n",
    "import pandas as pd\n",
    "import numpy as np\n",
    "\n",
    "\n",
    "\n",
    "# 데이터 불러오기\n",
    "file_path = 'RawData-1.csv'\n",
    "df = pd.read_csv(file_path)\n",
    "\n",
    "\n",
    "\n",
    "# 전체 shot에 동일한 step pitch 값을 사용하는 경우\n",
    "# Wafer 반경 설정\n",
    "wafer_radius = 150000\n",
    "\n",
    "# 단일 값을 가져옴\n",
    "step_pitch_x_value = step_pitch_x.iloc[0]\n",
    "step_pitch_y_value = step_pitch_y.iloc[0]\n",
    "\n",
    "# 각 shot에 대해 partial 여부 확인\n",
    "partial_shot_info = []\n",
    "\n",
    "for dx, dy, x, y in zip(die_x, die_y, fcp_x, fcp_y):\n",
    "    # 각 모서리 좌표 계산\n",
    "    bottom_left = (x - step_pitch_x_value / 2, y - step_pitch_y_value / 2)\n",
    "    bottom_right = (x + step_pitch_x_value / 2, y - step_pitch_y_value / 2)\n",
    "    top_left = (x - step_pitch_x_value / 2, y + step_pitch_y_value / 2)\n",
    "    top_right = (x + step_pitch_x_value / 2, y + step_pitch_y_value / 2)\n",
    "    \n",
    "    # 각 모서리 좌표에서 원점으로부터의 거리 계산\n",
    "    corners = [bottom_left, bottom_right, top_left, top_right]\n",
    "    distances = [np.sqrt(c[0]**2 + c[1]**2) for c in corners]\n",
    "    \n",
    "    # 어떤 모서리라도 Wafer 반경을 초과하면 partial shot으로 구분\n",
    "    is_partial = any(dist > wafer_radius for dist in distances)\n",
    "    \n",
    "    # 결과 저장\n",
    "    shot_info = {\n",
    "        \"Die_X\": dx, \n",
    "        \"Die_Y\": dy,\n",
    "        \"Is Partial Shot\": is_partial,\n",
    "        \"Bottom Left\": bottom_left,\n",
    "        \"Bottom Right\": bottom_right,\n",
    "        \"Top Left\": top_left,\n",
    "        \"Top Right\": top_right\n",
    "    }\n",
    "    \n",
    "    partial_shot_info.append(shot_info)\n",
    "\n",
    "# 결과를 DataFrame으로 변환해서 보기\n",
    "partial_shot_df = pd.DataFrame(partial_shot_info)\n",
    "\n",
    "\n",
    "# DataFrame을 CSV 파일로 저장하기\n",
    "output_file_path = 'partial_shot_classification.csv'  # 저장할 파일 경로와 이름\n",
    "partial_shot_df.to_csv(output_file_path, index=False, encoding='utf-8-sig')\n",
    "\n",
    "print(f\"DataFrame이 '{output_file_path}' 파일로 저장되었습니다.\")\n",
    "\n"
   ]
  },
  {
   "cell_type": "code",
   "execution_count": null,
   "metadata": {},
   "outputs": [],
   "source": []
  }
 ],
 "metadata": {
  "kernelspec": {
   "display_name": "Python 3",
   "language": "python",
   "name": "python3"
  },
  "language_info": {
   "codemirror_mode": {
    "name": "ipython",
    "version": 3
   },
   "file_extension": ".py",
   "mimetype": "text/x-python",
   "name": "python",
   "nbconvert_exporter": "python",
   "pygments_lexer": "ipython3",
   "version": "3.8.5"
  }
 },
 "nbformat": 4,
 "nbformat_minor": 2
}
