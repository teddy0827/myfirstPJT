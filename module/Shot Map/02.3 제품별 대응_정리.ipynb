{
 "cells": [
  {
   "cell_type": "markdown",
   "metadata": {},
   "source": [
    "■ Patial Shot 구분하기\n",
    "\n",
    "# 202041010\n",
    "1. 각 shot의 4개모서리 좌표로 150mm를 넘어가는지 확인\n",
    "2. 제품마다 step pitch가 다르기때문에 unique_id로 그룹지어서 계산\n"
   ]
  },
  {
   "cell_type": "code",
   "execution_count": null,
   "metadata": {},
   "outputs": [],
   "source": [
    "# DF에 끝부분에 PARITAL 유무만 저장"
   ]
  },
  {
   "cell_type": "code",
   "execution_count": 2,
   "metadata": {},
   "outputs": [
    {
     "name": "stdout",
     "output_type": "stream",
     "text": [
      "DataFrame이 'RawData-1_is_partial_shot.csv' 파일로 저장되었습니다.\n"
     ]
    }
   ],
   "source": [
    "import pandas as pd\n",
    "import numpy as np\n",
    "\n",
    "\n",
    "# 데이터 불러오기\n",
    "file_path = 'RawData-1.csv'\n",
    "df = pd.read_csv(file_path)\n",
    "\n",
    "\n",
    "# Wafer 반경 설정\n",
    "wafer_radius = 150000\n",
    "\n",
    "# 각 unique_id 그룹별로 partial 여부 확인\n",
    "partial_shot_info = []\n",
    "\n",
    "# 그룹화하여 step pitch 값을 사용\n",
    "for unique_id, group in df.groupby('UNIQUE_ID'):\n",
    "    # 그룹 내에서 동일한 step pitch 값 사용\n",
    "    step_pitch_x_value = group['STEP_PITCH_X'].iloc[0]\n",
    "    step_pitch_y_value = group['STEP_PITCH_Y'].iloc[0]\n",
    "    \n",
    "    for _, row in group.iterrows():\n",
    "        # 각 shot의 좌표\n",
    "        dx, dy = row['DieX'], row['DieY']\n",
    "        x, y = row['fcp_x'], row['fcp_y']\n",
    "        \n",
    "        # 각 모서리 좌표 계산\n",
    "        bottom_left = (x - step_pitch_x_value / 2, y - step_pitch_y_value / 2)\n",
    "        bottom_right = (x + step_pitch_x_value / 2, y - step_pitch_y_value / 2)\n",
    "        top_left = (x - step_pitch_x_value / 2, y + step_pitch_y_value / 2)\n",
    "        top_right = (x + step_pitch_x_value / 2, y + step_pitch_y_value / 2)\n",
    "        \n",
    "        # 각 모서리 좌표에서 원점으로부터의 거리 계산\n",
    "        corners = [bottom_left, bottom_right, top_left, top_right]\n",
    "        distances = [np.sqrt(c[0]**2 + c[1]**2) for c in corners]\n",
    "        \n",
    "        # 어떤 모서리라도 Wafer 반경을 초과하면 partial shot으로 구분\n",
    "        is_partial = any(dist > wafer_radius for dist in distances)\n",
    "        \n",
    "        # 결과 저장\n",
    "        shot_info = {\n",
    "            \"Unique_ID\": unique_id,\n",
    "            \"Die_X\": dx, \n",
    "            \"Die_Y\": dy,\n",
    "            \"Is Partial Shot\": is_partial,\n",
    "            \"Bottom Left\": bottom_left,\n",
    "            \"Bottom Right\": bottom_right,\n",
    "            \"Top Left\": top_left,\n",
    "            \"Top Right\": top_right\n",
    "        }\n",
    "        \n",
    "        partial_shot_info.append(shot_info)\n",
    "\n",
    "\n",
    "# partial_shot_info 리스트를 DataFrame으로 변환\n",
    "partial_shot_df = pd.DataFrame(partial_shot_info)\n",
    "\n",
    "# 기존 DataFrame과 Is Partial Shot 열만 추출한 DataFrame을 우측 병합\n",
    "df_patial = pd.concat([df, partial_shot_df['Is Partial Shot']], axis=1)\n",
    "\n",
    "# 결과 확인\n",
    "\n",
    "\n",
    "# DataFrame을 CSV 파일로 저장하기\n",
    "output_file_path = 'RawData-1_is_partial_shot.csv'  # 저장할 파일 경로와 이름\n",
    "df_patial.to_csv(output_file_path, index=False, encoding='utf-8-sig')\n",
    "\n",
    "print(f\"DataFrame이 '{output_file_path}' 파일로 저장되었습니다.\")\n",
    "\n",
    "\n",
    "\n",
    "\n"
   ]
  },
  {
   "cell_type": "code",
   "execution_count": null,
   "metadata": {},
   "outputs": [],
   "source": []
  }
 ],
 "metadata": {
  "kernelspec": {
   "display_name": "Python 3",
   "language": "python",
   "name": "python3"
  },
  "language_info": {
   "codemirror_mode": {
    "name": "ipython",
    "version": 3
   },
   "file_extension": ".py",
   "mimetype": "text/x-python",
   "name": "python",
   "nbconvert_exporter": "python",
   "pygments_lexer": "ipython3",
   "version": "3.8.5"
  }
 },
 "nbformat": 4,
 "nbformat_minor": 2
}
