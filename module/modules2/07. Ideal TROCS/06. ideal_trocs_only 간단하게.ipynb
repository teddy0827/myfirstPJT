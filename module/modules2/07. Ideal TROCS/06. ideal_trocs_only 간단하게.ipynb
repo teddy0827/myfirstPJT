{
 "cells": [
  {
   "cell_type": "markdown",
   "metadata": {},
   "source": [
    "# 20240921\n",
    "\"MODULE/12. ideal trocs_방법1.ipynb\" 를 그대로 카피함\n"
   ]
  },
  {
   "cell_type": "code",
   "execution_count": null,
   "metadata": {},
   "outputs": [],
   "source": [
    "\n",
    "##### Ideal TROCS : TROCS INPUT + CPE FIT ##### \n",
    "\n",
    "def ideal_trocs(df_rawdata):\n",
    "    df = pd.DataFrame(df_rawdata)\n",
    "    df['ideal_trocs_x'] = df['trocs_fit_x'] + df['cpe_pred_x'] \n",
    "    df['ideal_trocs_y'] = df['trocs_fit_y'] + df['cpe_pred_y'] \n",
    "    return df\n",
    "\n",
    "\n",
    "\n",
    "\n",
    "\n",
    "################################### ideal trocs #####################################################################\n",
    "\n",
    "\n",
    "# 데이타 불러오기 \n",
    "df_rawdata = pd.read_excel('output.xlsx', sheet_name='TROCS_decorrect')\n",
    "\n",
    "# trocs_fit + cpe_fit 수행\n",
    "df_ideal_trocs = ideal_trocs(df_rawdata)\n",
    "\n",
    "# ideal_trocs 결과를 엑셀 파일에 저장\n",
    "with pd.ExcelWriter('output.xlsx', engine='openpyxl', mode='a', if_sheet_exists='replace') as writer:\n",
    "    df_ideal_trocs.to_excel(writer, sheet_name='Ideal TROCS', index=False)\n",
    "\n",
    "    \n",
    "\n",
    "\n",
    "    \n",
    "\n",
    "\n",
    "\n",
    "\n",
    "\n",
    "\n",
    "        "
   ]
  }
 ],
 "metadata": {
  "language_info": {
   "name": "python"
  }
 },
 "nbformat": 4,
 "nbformat_minor": 2
}
