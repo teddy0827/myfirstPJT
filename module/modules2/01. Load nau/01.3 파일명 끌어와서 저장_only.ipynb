{
 "cells": [
  {
   "cell_type": "markdown",
   "metadata": {},
   "source": [
    "\n",
    "# 신규로직 추가\n",
    "\n",
    " # 20240922 (M_STEP 정보추가)\n",
    " 현재 : M_STEP 정보가 NAU파일 내부에 없음.\n",
    " 문제점 : ADI, OCO 섞여있으면 스텝구분을 못해줌..\n",
    " 변경점 : 파일제목에 있는 M_STEP정보를 끌고 오게 변경 \n",
    "\n"
   ]
  },
  {
   "cell_type": "code",
   "execution_count": 4,
   "metadata": {},
   "outputs": [
    {
     "name": "stdout",
     "output_type": "stream",
     "text": [
      "PRQ328.1_WC046040_WC046030_20240430002132_11.nau 파일 읽기 성공\n",
      "PRQ328.1_WC046040_WC046030_20240430002132_11.nau 파일에 새로운 시트 추가 완료\n",
      "PRQ328.1_WC046040_WC046030_20240430004033_12.nau 파일 읽기 성공\n",
      "PRQ328.1_WC046040_WC046030_20240430004033_12.nau 파일에 새로운 시트 추가 완료\n",
      "PRQ328.1_WC048176_WC046030_20240501060729_11.nau 파일 읽기 성공\n",
      "PRQ328.1_WC048176_WC046030_20240501060729_11.nau 파일에 새로운 시트 추가 완료\n",
      "PRQ328.1_WC048176_WC046030_20240501060734_12.nau 파일 읽기 성공\n",
      "PRQ328.1_WC048176_WC046030_20240501060734_12.nau 파일에 새로운 시트 추가 완료\n",
      "PRR253.1_WC046040_WC046030_20240530022203_11.nau 파일 읽기 성공\n",
      "PRR253.1_WC046040_WC046030_20240530022203_11.nau 파일에 새로운 시트 추가 완료\n",
      "PRR253.1_WC046040_WC046030_20240530022659_12.nau 파일 읽기 성공\n",
      "PRR253.1_WC046040_WC046030_20240530022659_12.nau 파일에 새로운 시트 추가 완료\n",
      "PRR253.1_WC048176_WC046030_20240601005157_11.nau 파일 읽기 성공\n",
      "PRR253.1_WC048176_WC046030_20240601005157_11.nau 파일에 새로운 시트 추가 완료\n",
      "PRR253.1_WC048176_WC046030_20240601005203_12.nau 파일 읽기 성공\n",
      "PRR253.1_WC048176_WC046030_20240601005203_12.nau 파일에 새로운 시트 추가 완료\n",
      "PRU810.F1_WC046040_WC046030_20240903052936_21.nau 파일 읽기 성공\n",
      "PRU810.F1_WC046040_WC046030_20240903052936_21.nau 파일에 새로운 시트 추가 완료\n",
      "PRU810.F1_WC046040_WC046030_20240903053657_22.nau 파일 읽기 성공\n",
      "PRU810.F1_WC046040_WC046030_20240903053657_22.nau 파일에 새로운 시트 추가 완료\n",
      "PRU810.F1_WC048176_WC046030_20240903151350_21.nau 파일 읽기 성공\n",
      "PRU810.F1_WC048176_WC046030_20240903151350_21.nau 파일에 새로운 시트 추가 완료\n",
      "PRU810.F1_WC048176_WC046030_20240903151355_22.nau 파일 읽기 성공\n",
      "PRU810.F1_WC048176_WC046030_20240903151355_22.nau 파일에 새로운 시트 추가 완료\n",
      "PRUG55.1_WC046040_WC046030_20240916054024_11.nau 파일 읽기 성공\n",
      "PRUG55.1_WC046040_WC046030_20240916054024_11.nau 파일에 새로운 시트 추가 완료\n",
      "PRUG55.1_WC046040_WC046030_20240916054726_12.nau 파일 읽기 성공\n",
      "PRUG55.1_WC046040_WC046030_20240916054726_12.nau 파일에 새로운 시트 추가 완료\n",
      "PRUG55.1_WC048176_WC046030_20240920172459_11.nau 파일 읽기 성공\n",
      "PRUG55.1_WC048176_WC046030_20240920172459_11.nau 파일에 새로운 시트 추가 완료\n",
      "PRUG55.1_WC048176_WC046030_20240920172504_12.nau 파일 읽기 성공\n",
      "PRUG55.1_WC048176_WC046030_20240920172504_12.nau 파일에 새로운 시트 추가 완료\n"
     ]
    }
   ],
   "source": [
    "import os\n",
    "import pandas as pd\n",
    "from openpyxl import load_workbook\n",
    "\n",
    "# 폴더 경로 설정\n",
    "folder_path = 'C:/py_data/nau2_test'\n",
    "\n",
    "# 폴더 내의 모든 파일에 대해 실행\n",
    "for file_name in os.listdir(folder_path):\n",
    "    # 파일 경로 설정\n",
    "    file_path = os.path.join(folder_path, file_name)\n",
    "    \n",
    "    # 파일인지 확인 (폴더는 제외)\n",
    "    if os.path.isfile(file_path) and file_name.endswith('.nau'):\n",
    "        try:\n",
    "            # 파일 확장자를 임시로 .xlsx로 변경\n",
    "            temp_file_path = file_path.replace('.nau', '.xlsx')\n",
    "            os.rename(file_path, temp_file_path)\n",
    "\n",
    "            # pandas를 이용해 엑셀 파일(유사)을 읽기\n",
    "            excel_data = pd.read_excel(temp_file_path, engine='openpyxl')\n",
    "            print(f\"{file_name} 파일 읽기 성공\")\n",
    "\n",
    "            # 파일명을 \"_\" 기준으로 분할\n",
    "            file_name_without_extension = os.path.splitext(file_name)[0]\n",
    "            split_file_name = file_name_without_extension.split(\"_\")\n",
    "\n",
    "            # 기존 엑셀 파일 열기\n",
    "            workbook = load_workbook(temp_file_path)\n",
    "\n",
    "            # 파일명 시트를 첫 번째로 추가\n",
    "            new_sheet_name = \"FileName\"\n",
    "            if new_sheet_name not in workbook.sheetnames:\n",
    "                new_sheet = workbook.create_sheet(title=new_sheet_name, index=0)  # 첫 번째 시트로 추가\n",
    "            else:\n",
    "                new_sheet = workbook[new_sheet_name]\n",
    "\n",
    "            # 분할된 파일명을 첫 번째 시트에 기록\n",
    "            for col, value in enumerate(split_file_name, start=1):\n",
    "                new_sheet.cell(row=1, column=col, value=value)\n",
    "\n",
    "            # 변경된 파일 저장\n",
    "            workbook.save(temp_file_path)\n",
    "            print(f\"{file_name} 파일에 새로운 시트 추가 완료\")\n",
    "\n",
    "            # 확장자를 다시 .nau로 복원\n",
    "            os.rename(temp_file_path, file_path)\n",
    "\n",
    "        except Exception as e:\n",
    "            print(f\"{file_name} 파일을 읽는 중 에러 발생: {e}\")\n"
   ]
  },
  {
   "cell_type": "code",
   "execution_count": null,
   "metadata": {},
   "outputs": [],
   "source": []
  }
 ],
 "metadata": {
  "kernelspec": {
   "display_name": "Python 3",
   "language": "python",
   "name": "python3"
  },
  "language_info": {
   "codemirror_mode": {
    "name": "ipython",
    "version": 3
   },
   "file_extension": ".py",
   "mimetype": "text/x-python",
   "name": "python",
   "nbconvert_exporter": "python",
   "pygments_lexer": "ipython3",
   "version": "3.8.5"
  }
 },
 "nbformat": 4,
 "nbformat_minor": 2
}
