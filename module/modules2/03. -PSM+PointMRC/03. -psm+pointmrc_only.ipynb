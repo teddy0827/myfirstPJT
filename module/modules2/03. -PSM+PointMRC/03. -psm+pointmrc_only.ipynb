{
 "cells": [
  {
   "cell_type": "markdown",
   "metadata": {},
   "source": [
    "# 20240922\n",
    "\n",
    "1. OCM과 동일하게 WK, RK처리,  M3S계산\n",
    "    OCM 처리방식 : X_REG + MRC_X 상태로 계산해줌. (당연히 K MRC는 DECORRECT해줌. ) \n",
    "    MRC_X 에 PSM, POINT_MRC가 다 들어가있음. ( MRC_X = -PSM + Point MRC ) \n",
    "    OCM과 동일하게 한다면 ?  ADI에서는 X_REG_demrc + MRC_X 로 계산해주면 됨.  ※ OCO에서는 PSM INPUT 빼주면 안됨. 순수 X_REG로만 M3S 계산하면됨.\n",
    "\n",
    "    \n",
    "\n"
   ]
  },
  {
   "cell_type": "code",
   "execution_count": 10,
   "metadata": {},
   "outputs": [],
   "source": [
    "\n",
    "import pandas as pd\n",
    "import numpy as np\n",
    "import os\n",
    "from openpyxl import load_workbook\n",
    "import openpyxl\n",
    "\n",
    "\n",
    "##### PSM Input은 빼주고 Point MRC는 더해주고.   X_reg_demrc + MRC X ##### \n",
    "\n",
    "\n",
    "def remove_psm_add_pointmrc(df_rawdata):\n",
    "    df = pd.DataFrame(df_rawdata)\n",
    "    df['raw_x'] = df['X_reg_demrc'] + df['MRC_X'] \n",
    "    df['raw_y'] = df['Y_reg_demrc'] + df['MRC_Y'] \n",
    "    return df\n",
    "\n",
    " \n",
    "################################### raw calc #####################################################################\n",
    "\n",
    "# 데이타 불러오기 \n",
    "df_rawdata = pd.read_excel('output.xlsx', sheet_name='MRC_decorrect')\n",
    "\n",
    "# X_reg_demrc + MRC X \n",
    "df_raw_calc = remove_psm_add_pointmrc(df_rawdata)\n",
    "\n",
    "# ideal_trocs 결과를 엑셀 파일에 저장\n",
    "with pd.ExcelWriter('output.xlsx', engine='openpyxl', mode='a', if_sheet_exists='replace') as writer:\n",
    "    df_raw_calc.to_excel(writer, sheet_name='raw', index=False)\n",
    "\n",
    "\n",
    "\n",
    "    \n",
    "\n",
    "\n",
    "\n",
    "\n",
    "\n",
    "\n",
    "        "
   ]
  },
  {
   "cell_type": "code",
   "execution_count": null,
   "metadata": {},
   "outputs": [],
   "source": []
  }
 ],
 "metadata": {
  "kernelspec": {
   "display_name": "Python 3",
   "language": "python",
   "name": "python3"
  },
  "language_info": {
   "codemirror_mode": {
    "name": "ipython",
    "version": 3
   },
   "file_extension": ".py",
   "mimetype": "text/x-python",
   "name": "python",
   "nbconvert_exporter": "python",
   "pygments_lexer": "ipython3",
   "version": "3.8.5"
  }
 },
 "nbformat": 4,
 "nbformat_minor": 2
}
