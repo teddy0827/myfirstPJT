{
 "cells": [
  {
   "cell_type": "code",
   "execution_count": null,
   "metadata": {},
   "outputs": [],
   "source": [
    "1. edge clear 기능\n",
    "2. outlier 판정 + 처리 로직\n",
    "3. 정규화를 위해 k para를 nm단위로 변환  (max k 어떻게 구하지??)\n",
    "4. \n",
    "5.\n"
   ]
  }
 ],
 "metadata": {
  "language_info": {
   "name": "python"
  }
 },
 "nbformat": 4,
 "nbformat_minor": 2
}
