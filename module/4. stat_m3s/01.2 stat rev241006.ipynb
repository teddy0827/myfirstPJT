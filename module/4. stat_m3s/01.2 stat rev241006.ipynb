{
 "cells": [
  {
   "cell_type": "markdown",
   "metadata": {},
   "source": [
    "# 20241005 : E1,E2,E3 로 색깔 구분위해   'GROUP' 컬럼도 추가함.\n",
    "\n",
    "# 20241006 : M_STEP은 삭제함.  MMO_MRC_EQP 추가함. \n"
   ]
  },
  {
   "cell_type": "code",
   "execution_count": 1,
   "metadata": {},
   "outputs": [
    {
     "name": "stdout",
     "output_type": "stream",
     "text": [
      "컬럼 배치 순서 변경 및 절대값 적용 후 mean + 3sigma 계산 완료 및 저장됨: output_m3s.csv\n"
     ]
    }
   ],
   "source": [
    "\n",
    "\n",
    "import pandas as pd\n",
    "\n",
    "# 엑셀 파일 경로 및 시트 이름\n",
    "file_path = 'Delta_PSM.csv'\n",
    "\n",
    "# csv 파일 불러오기\n",
    "df = pd.read_csv(file_path)\n",
    "\n",
    "# 계산할 컬럼 목록\n",
    "columns_to_calculate = [\n",
    "    'X_reg', 'Y_reg', 'pred_x', 'pred_y', 'residual_x', 'residual_y',  \n",
    "    'psm_fit_x', 'psm_fit_y', 'residual_x_depsm', 'residual_y_depsm',\n",
    "    'cpe19p_pred_x', 'cpe19p_pred_y', 'cpe19p_resi_x', 'cpe19p_resi_y',\n",
    "    'ideal_psm_x', 'ideal_psm_y', 'delta_psm_x', 'delta_psm_y' ]\n",
    "\n",
    "# 'UNIQUE_ID' 기준으로 그룹화하여 mean과 std(표준편차) 계산 (mean 후 절대값 적용)\n",
    "grouped = df.groupby('UNIQUE_ID').agg({col: ['mean', 'std'] for col in columns_to_calculate})\n",
    "\n",
    "# 컬럼명 재정의 (mean과 std의 멀티인덱스를 단일 인덱스로 변환)\n",
    "grouped.columns = [f'{col}_{stat}' for col, stat in grouped.columns]\n",
    "\n",
    "# mean에 절대값 적용\n",
    "for col in columns_to_calculate:\n",
    "    grouped[f'{col}_mean'] = grouped[f'{col}_mean'].abs()\n",
    "\n",
    "# mean + 3 * sigma 계산\n",
    "for col in columns_to_calculate:\n",
    "    grouped[f'{col}_m3s'] = grouped[f'{col}_mean'] + 3 * grouped[f'{col}_std']\n",
    "\n",
    "# 첫 번째 값을 그룹화해서 각각 추가\n",
    "grouped['STEPSEQ'] = df.groupby('UNIQUE_ID')['STEPSEQ'].first()\n",
    "grouped['LOT_ID'] = df.groupby('UNIQUE_ID')['LOT_ID'].first()\n",
    "grouped['Wafer'] = df.groupby('UNIQUE_ID')['Wafer'].first()\n",
    "grouped['P_EQPID'] = df.groupby('UNIQUE_ID')['P_EQPID'].first()\n",
    "grouped['Photo_PPID'] = df.groupby('UNIQUE_ID')['Photo_PPID'].first()\n",
    "grouped['P_TIME'] = df.groupby('UNIQUE_ID')['P_TIME'].first()\n",
    "# grouped['M_STEP'] = df.groupby('UNIQUE_ID')['M_STEP'].first()\n",
    "grouped['M_TIME'] = df.groupby('UNIQUE_ID')['M_TIME'].first()\n",
    "grouped['ChuckID'] = df.groupby('UNIQUE_ID')['ChuckID'].first()\n",
    "grouped['ReticleID'] = df.groupby('UNIQUE_ID')['ReticleID'].first()\n",
    "grouped['Base_EQP1'] = df.groupby('UNIQUE_ID')['Base_EQP1'].first()\n",
    "grouped['GROUP'] = df.groupby('UNIQUE_ID')['GROUP'].first()\n",
    "grouped['MMO_MRC_EQP'] = df.groupby('UNIQUE_ID')['MMO_MRC_EQP'].first()\n",
    "\n",
    "\n",
    "# 원하는 컬럼 순서 정의\n",
    "desired_column_order = [\n",
    "    'STEPSEQ', 'LOT_ID', 'Wafer', 'P_EQPID', 'Photo_PPID', 'P_TIME',\n",
    "    'M_TIME', 'ChuckID', 'ReticleID', 'Base_EQP1', 'MMO_MRC_EQP', 'GROUP'\n",
    "]\n",
    "# M_STEP은 삭제함\n",
    "\n",
    "\n",
    "\n",
    "# 계산된 컬럼 추가\n",
    "for col in columns_to_calculate:\n",
    "    desired_column_order.extend([\n",
    "        f'{col}_mean',\n",
    "        f'{col}_std',\n",
    "        f'{col}_m3s'\n",
    "    ])\n",
    "\n",
    "# DataFrame의 컬럼을 재배열\n",
    "grouped = grouped[desired_column_order]\n",
    "\n",
    "# 인덱스 재설정 (필요에 따라)\n",
    "grouped.reset_index(inplace=True)\n",
    "\n",
    "# 새로운 파일로 저장 (CSV 형식으로 저장)\n",
    "output_file_path = 'output_m3s.csv'\n",
    "grouped.to_csv(output_file_path, index=False)\n",
    "\n",
    "print(\"컬럼 배치 순서 변경 및 절대값 적용 후 mean + 3sigma 계산 완료 및 저장됨:\", output_file_path)\n"
   ]
  },
  {
   "cell_type": "code",
   "execution_count": null,
   "metadata": {},
   "outputs": [],
   "source": []
  }
 ],
 "metadata": {
  "kernelspec": {
   "display_name": "Python 3",
   "language": "python",
   "name": "python3"
  },
  "language_info": {
   "codemirror_mode": {
    "name": "ipython",
    "version": 3
   },
   "file_extension": ".py",
   "mimetype": "text/x-python",
   "name": "python",
   "nbconvert_exporter": "python",
   "pygments_lexer": "ipython3",
   "version": "3.8.5"
  }
 },
 "nbformat": 4,
 "nbformat_minor": 2
}
