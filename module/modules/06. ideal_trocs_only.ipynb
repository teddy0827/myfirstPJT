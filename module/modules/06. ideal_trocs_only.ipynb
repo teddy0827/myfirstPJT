{
 "cells": [
  {
   "cell_type": "markdown",
   "metadata": {},
   "source": [
    "# 20240921\n",
    "\"MODULE/12. ideal trocs_방법1.ipynb\" 를 그대로 카피함\n"
   ]
  },
  {
   "cell_type": "code",
   "execution_count": null,
   "metadata": {},
   "outputs": [],
   "source": [
    "\n",
    "##### Ideal TROCS : TROCS INPUT + CPE FIT ##### \n",
    "\n",
    "def ideal_trocs(df_rawdata):\n",
    "\n",
    "    # 계산 결과를 저장할 리스트\n",
    "    ideal_trocs_list = []    \n",
    "   \n",
    "    # LOT_ID별로 그룹화\n",
    "    grouped = df_rawdata.groupby('UNIQUE_ID')\n",
    "\n",
    "    # 각 그룹에 대해 연산 수행\n",
    "    for unique_id, group in grouped:\n",
    "        trocs_fit_x = group['trocs_fit_x']\n",
    "        trocs_fit_y = group['trocs_fit_y']\n",
    "        cpe_pred_x = group['cpe_pred_x']\n",
    "        cpe_pred_y = group['cpe_pred_y']\n",
    "        \n",
    "        # ideal trocs 계산 \n",
    "        ideal_trocs_x = group['trocs_fit_x'] + group['cpe_pred_x']\n",
    "        ideal_trocs_y = group['trocs_fit_y'] + group['cpe_pred_y']\n",
    "\n",
    "        # 결과 저장\n",
    "        ideal_trocs_list.append(pd.DataFrame({\n",
    "            'ideal_trocs_x' : ideal_trocs_x,\n",
    "            'ideal_trocs_y' : ideal_trocs_y\n",
    "        }))\n",
    "\n",
    "    # 결과 병합\n",
    "    df_ideal_trocs = pd.concat(ideal_trocs_list, ignore_index=True)\n",
    "    # 원본 데이터와 병합\n",
    "    df_ideal_trocs = pd.concat([df_rawdata.reset_index(drop=True), df_ideal_trocs], axis=1)\n",
    "    return df_ideal_trocs\n",
    "  \n",
    "\n",
    "\n",
    "\n",
    "################################### ideal trocs #####################################################################\n",
    "\n",
    "\n",
    "# 데이타 불러오기 \n",
    "df_rawdata = pd.read_excel('output.xlsx', sheet_name='TROCS_decorrect')\n",
    "\n",
    "# trocs_fit + cpe_fit 수행\n",
    "df_ideal_trocs = ideal_trocs(df_rawdata)\n",
    "\n",
    "# ideal_trocs 결과를 엑셀 파일에 저장\n",
    "with pd.ExcelWriter('output.xlsx', engine='openpyxl', mode='a', if_sheet_exists='replace') as writer:\n",
    "    df_ideal_trocs.to_excel(writer, sheet_name='Ideal TROCS', index=False)\n",
    "\n",
    "    \n",
    "\n",
    "\n",
    "    \n",
    "\n",
    "\n",
    "\n",
    "\n",
    "\n",
    "\n",
    "        "
   ]
  }
 ],
 "metadata": {
  "language_info": {
   "name": "python"
  }
 },
 "nbformat": 4,
 "nbformat_minor": 2
}
